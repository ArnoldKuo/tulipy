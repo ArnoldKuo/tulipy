{
 "cells": [
  {
   "cell_type": "markdown",
   "metadata": {},
   "source": [
    "# tulipy\n",
    "\n",
    "## Python bindings for [Tulip Indicators](https://tulipindicators.org/)"
   ]
  },
  {
   "cell_type": "code",
   "execution_count": 1,
   "metadata": {
    "collapsed": true
   },
   "outputs": [],
   "source": [
    "import numpy as np\n",
    "import tulipy as ti"
   ]
  },
  {
   "cell_type": "code",
   "execution_count": 2,
   "metadata": {
    "collapsed": true
   },
   "outputs": [],
   "source": [
    "DATA = np.array([81.59, 81.06, 82.87, 83,    83.61,\n",
    "                 83.15, 82.84, 83.99, 84.55, 84.36,\n",
    "                 85.53, 86.54, 86.89, 87.77, 87.29])"
   ]
  },
  {
   "cell_type": "code",
   "execution_count": 3,
   "metadata": {
    "collapsed": false
   },
   "outputs": [],
   "source": [
    "def print_info(indicator):\n",
    "    print \"Name:\", indicator.name\n",
    "    print \"Type:\", indicator.type\n",
    "    print \"Full Name:\", indicator.full_name\n",
    "    print \"Inputs:\", indicator.inputs\n",
    "    print \"Options:\", indicator.options\n",
    "    print \"Outputs:\", indicator.outputs"
   ]
  },
  {
   "cell_type": "code",
   "execution_count": 4,
   "metadata": {
    "collapsed": false
   },
   "outputs": [
    {
     "name": "stdout",
     "output_type": "stream",
     "text": [
      "Name: sqrt\n",
      "Type: simple\n",
      "Full Name: Vector Square Root\n",
      "Inputs: ['real']\n",
      "Options: []\n",
      "Outputs: ['sqrt']\n"
     ]
    }
   ],
   "source": [
    "print_info(ti.sqrt)"
   ]
  },
  {
   "cell_type": "code",
   "execution_count": 5,
   "metadata": {
    "collapsed": false
   },
   "outputs": [
    {
     "data": {
      "text/plain": [
       "{'sqrt': array([ 9.03271831,  9.00333272,  9.10329611,  9.11043358,  9.14385039,\n",
       "         9.11866218,  9.1016482 ,  9.16460583,  9.19510739,  9.18477   ,\n",
       "         9.24824308,  9.30268778,  9.32148057,  9.36856446,  9.34291175])}"
      ]
     },
     "execution_count": 5,
     "metadata": {},
     "output_type": "execute_result"
    }
   ],
   "source": [
    "inputs = {'real': DATA}\n",
    "options = {}\n",
    "\n",
    "ti.sqrt(inputs, options)"
   ]
  },
  {
   "cell_type": "code",
   "execution_count": 6,
   "metadata": {
    "collapsed": false
   },
   "outputs": [
    {
     "name": "stdout",
     "output_type": "stream",
     "text": [
      "Name: sma\n",
      "Type: overlay\n",
      "Full Name: Simple Moving Average\n",
      "Inputs: ['real']\n",
      "Options: ['period']\n",
      "Outputs: ['sma']\n"
     ]
    }
   ],
   "source": [
    "print_info(ti.sma)"
   ]
  },
  {
   "cell_type": "code",
   "execution_count": 7,
   "metadata": {
    "collapsed": false
   },
   "outputs": [
    {
     "data": {
      "text/plain": [
       "{'sma': array([ 82.426,  82.738,  83.094,  83.318,  83.628,  83.778,  84.254,\n",
       "         84.994,  85.574,  86.218,  86.804])}"
      ]
     },
     "execution_count": 7,
     "metadata": {},
     "output_type": "execute_result"
    }
   ],
   "source": [
    "inputs = {'real': DATA}\n",
    "options = {'period': 5.0}\n",
    "\n",
    "ti.sma(inputs, options)"
   ]
  },
  {
   "cell_type": "code",
   "execution_count": 8,
   "metadata": {
    "collapsed": false
   },
   "outputs": [
    {
     "name": "stdout",
     "output_type": "stream",
     "text": [
      "Name: bbands\n",
      "Type: overlay\n",
      "Full Name: Bollinger Bands\n",
      "Inputs: ['real']\n",
      "Options: ['period', 'stddev']\n",
      "Outputs: ['bbands_lower', 'bbands_middle', 'bbands_upper']\n"
     ]
    }
   ],
   "source": [
    "print_info(ti.bbands)"
   ]
  },
  {
   "cell_type": "code",
   "execution_count": 9,
   "metadata": {
    "collapsed": false
   },
   "outputs": [
    {
     "data": {
      "text/plain": [
       "{'bbands_lower': array([ 80.53004219,  80.98714192,  82.53334324,  82.47198345,\n",
       "         82.41775044,  82.43520292,  82.51133078,  83.14261781,\n",
       "         83.53648779,  83.8703237 ,  85.28887096]),\n",
       " 'bbands_middle': array([ 82.426,  82.738,  83.094,  83.318,  83.628,  83.778,  84.254,\n",
       "         84.994,  85.574,  86.218,  86.804]),\n",
       " 'bbands_upper': array([ 84.32195781,  84.48885808,  83.65465676,  84.16401655,\n",
       "         84.83824956,  85.12079708,  85.99666922,  86.84538219,\n",
       "         87.61151221,  88.5656763 ,  88.31912904])}"
      ]
     },
     "execution_count": 9,
     "metadata": {},
     "output_type": "execute_result"
    }
   ],
   "source": [
    "inputs = {'real': DATA}\n",
    "options = {'period': 5.0, 'stddev': 2.0}\n",
    "\n",
    "ti.bbands(inputs, options)"
   ]
  },
  {
   "cell_type": "code",
   "execution_count": null,
   "metadata": {
    "collapsed": true
   },
   "outputs": [],
   "source": []
  }
 ],
 "metadata": {
  "kernelspec": {
   "display_name": "Python 2",
   "language": "python",
   "name": "python2"
  },
  "language_info": {
   "codemirror_mode": {
    "name": "ipython",
    "version": 2
   },
   "file_extension": ".py",
   "mimetype": "text/x-python",
   "name": "python",
   "nbconvert_exporter": "python",
   "pygments_lexer": "ipython2",
   "version": "2.7.13"
  }
 },
 "nbformat": 4,
 "nbformat_minor": 2
}
